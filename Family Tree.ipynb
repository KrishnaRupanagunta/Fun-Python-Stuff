{
  "nbformat": 4,
  "nbformat_minor": 0,
  "metadata": {
    "colab": {
      "provenance": [],
      "authorship_tag": "ABX9TyMUDYQbBdw5W2YqM66aQ+oF",
      "include_colab_link": true
    },
    "kernelspec": {
      "name": "python3",
      "display_name": "Python 3"
    },
    "language_info": {
      "name": "python"
    }
  },
  "cells": [
    {
      "cell_type": "markdown",
      "metadata": {
        "id": "view-in-github",
        "colab_type": "text"
      },
      "source": [
        "<a href=\"https://colab.research.google.com/github/KrishnaRupanagunta/Fun-Python-Stuff/blob/main/Family%20Tree.ipynb\" target=\"_parent\"><img src=\"https://colab.research.google.com/assets/colab-badge.svg\" alt=\"Open In Colab\"/></a>"
      ]
    },
    {
      "cell_type": "code",
      "execution_count": null,
      "metadata": {
        "id": "d1SS-zl_np2s"
      },
      "outputs": [],
      "source": []
    },
    {
      "cell_type": "code",
      "source": [
        "import pandas as pd\n",
        "import numpy as np\n",
        "\n",
        "data = [['Rupan1','M','M','1942','','Origin'],\n",
        " ['Rup2','M','F','1943','Rupan1','Spouse'],\n",
        " ['Rup3','M','M','1965','Rupan1','Child'],\n",
        " ['Rup4','M','F','1967','Rup3','Spouse'],\n",
        " ['Rup9','M','F','1970','Rupan1','Child'],\n",
        " ['Rup5','S','M','1968','Rupan1','Child'],\n",
        " ['Rup6','M','F','1967','Rup3','Child'],\n",
        " ['Rup7','M','F','1968','Rup6','Spouse'],\n",
        " ['Rup10','M','F','1971','Rup9','Spouse']]\n",
        "\n",
        "rawdf = pd.read_csv('sample_ancestry.csv', dtype= str, keep_default_na=False)\n",
        "# Create the pandas DataFrame\n",
        "df = pd.DataFrame(rawdf, columns=['Name1', 'MStatus','Gender','YOB','Name2','Relation'])\n",
        "\n",
        "#add columns\n",
        "df['Name1ID'] = df['Name1'].str[:3] + df['YOB']\n",
        "df['CoupleID'] = ''\n",
        "df['ParentCoupleID'] = ''\n",
        "df['Name2ID'] =''\n",
        "\n",
        "df2=df.copy()\n",
        "\n",
        "for index, row in df.iterrows():\n",
        "  result = df2.loc[df2['Name1']== row['Name2'], 'Name1ID']\n",
        "  if not result.empty:\n",
        "    value_ID = result.values[0]\n",
        "    df.loc[index,'Name2ID'] = value_ID\n",
        "\n",
        "for index, row in df.iterrows():\n",
        "  if row['Relation'] == 'Spouse':\n",
        "      valueID= row['Name1ID'] + \".\" + row['Name2ID']\n",
        "      row['CoupleID'] = valueID\n",
        "\n",
        "\n",
        "df2=df.copy()\n",
        "for index, row in df.iterrows():\n",
        "  if row['Relation'] == 'Child':\n",
        "    result = df2.loc[(df2['Name2ID']== row['Name2ID']), 'CoupleID']\n",
        "    if not result.empty:\n",
        "      value_ID = result.values[0]\n",
        "      df.loc[index,'ParentCoupleID'] = value_ID\n",
        "\n",
        "df2=df.copy()\n",
        "for index, row in df.iterrows():\n",
        "  if row['Relation'] == 'Spouse':\n",
        "    result = df2.loc[(df2['Name1ID']== row['Name2ID']), 'ParentCoupleID']\n",
        "    if not result.empty:\n",
        "      value_ID = result.values[0]\n",
        "      df.loc[index,'ParentCoupleID'] = value_ID\n",
        "print(df)\n",
        "graphdf = pd.DataFrame(columns=['CoupleID','ParentCoupleID','CoupleName','MStatus'])\n",
        "\n",
        "#graph of couples (married)\n",
        "for index, row in df.iterrows():\n",
        "  if (row['MStatus'] == 'M') & (row['Relation'] == 'Spouse'):\n",
        "    CID= row['CoupleID']\n",
        "    PCID = row['ParentCoupleID']\n",
        "    CNAME = row['Name2'] + \"*,\" + row['Name1']\n",
        "    graphdf.loc[len(graphdf.index)] = [CID,PCID,CNAME,'M']\n",
        "\n",
        "#append singles\n",
        "for index, row in df.iterrows():\n",
        "  if (row['MStatus'] == 'S') & (row['Relation'] == 'Child'):\n",
        "    CID= row['Name1ID']\n",
        "    PCID = row['ParentCoupleID']\n",
        "    CNAME = row['Name1'] + \"*\" + \"  \"\n",
        "    graphdf.loc[len(graphdf.index)] = [CID,PCID,CNAME,'S']\n",
        "\n",
        "\n"
      ],
      "metadata": {
        "id": "jFyFqpDKi3Ua"
      },
      "execution_count": null,
      "outputs": []
    },
    {
      "cell_type": "code",
      "source": [],
      "metadata": {
        "id": "sgudcWzaHODC"
      },
      "execution_count": null,
      "outputs": []
    },
    {
      "cell_type": "code",
      "source": [
        "from graphviz import Digraph\n",
        "f = Digraph('neato', format='pdf', encoding='utf8', filename='Rupanagunta', node_attr={'color': 'lightblue', 'style': 'filled'})\n",
        "f.attr('node', shape='box')\n",
        "for index, row in graphdf.iterrows():\n",
        "    f.node(row['CoupleID'],\n",
        "           label=\n",
        "             row['CoupleName'],\n",
        "            _attributes={'color':'lightblue' if row['MStatus']=='M' else 'lightgray'})\n",
        "for index, row in graphdf.iterrows():\n",
        "    f.edge(str(row[\"ParentCoupleID\"]), str(row[\"CoupleID\"]), label='')\n",
        "f.view()"
      ],
      "metadata": {
        "colab": {
          "base_uri": "https://localhost:8080/",
          "height": 35
        },
        "id": "SaWiyZZ890Xo",
        "outputId": "ec154bef-20d8-4049-cf0a-151e6d5d0d5b"
      },
      "execution_count": 34,
      "outputs": [
        {
          "output_type": "execute_result",
          "data": {
            "text/plain": [
              "'Rupanagunta.pdf'"
            ],
            "application/vnd.google.colaboratory.intrinsic+json": {
              "type": "string"
            }
          },
          "metadata": {},
          "execution_count": 34
        }
      ]
    },
    {
      "cell_type": "code",
      "source": [],
      "metadata": {
        "id": "VwBxsnj86cns"
      },
      "execution_count": null,
      "outputs": []
    }
  ]
}